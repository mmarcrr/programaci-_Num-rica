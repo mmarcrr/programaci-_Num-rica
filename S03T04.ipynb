{
 "cells": [
  {
   "cell_type": "markdown",
   "metadata": {},
   "source": [
    "# Nivell 1\n",
    "## Exercici 1\n",
    "Crea una funció que donat un Array d’una dimensió, et faci un resum estadístic bàsic de les dades. Si detecta que l’array té més d’una dimensió, ha de mostrar un missatge d’error.\n"
   ]
  },
  {
   "cell_type": "code",
   "execution_count": 2,
   "metadata": {},
   "outputs": [],
   "source": [
    "import numpy as np\n",
    "import numpy.random as random"
   ]
  },
  {
   "cell_type": "code",
   "execution_count": 3,
   "metadata": {},
   "outputs": [
    {
     "name": "stdout",
     "output_type": "stream",
     "text": [
      "-----\n",
      "Valor minim: 15\n",
      "Valor maxim: 87\n",
      "Mitja: 46.89\n",
      "Mitjana: 45.0\n",
      "Variància: 658.99\n",
      "Desviació standard: 25.67\n",
      "Coeficient de correlacio: 1.0\n",
      "-----\n",
      "La dimensio del array es 2 i ha de ser 1\n"
     ]
    }
   ],
   "source": [
    "def summary( myarray ):\n",
    "    if myarray.ndim == 1:\n",
    "        print(f\"Valor minim: {myarray.min()}\")\n",
    "        print(f\"Valor maxim: {myarray.max()}\")\n",
    "        print(f\"Mitja: {round(np.mean(myarray),2)}\")\n",
    "        print(f\"Mitjana: {round(np.median(myarray),2)}\")\n",
    "        print(f\"Variància: {round(np.var(myarray),2)}\")\n",
    "        print(f\"Desviació standard: {round(myarray.std(), 2)}\")\n",
    "        print(f\"Coeficient de correlacio: {round(np.corrcoef(myarray), 2)}\")\n",
    "    else:\n",
    "        print(f\"La dimensio del array es {myarray.ndim} i ha de ser 1\")\n",
    "\n",
    "    \n",
    "myarray = random.randint(99, size=(9))\n",
    "print(\"-----\")\n",
    "summary(myarray)\n",
    "print(\"-----\")\n",
    "summary(myarray.reshape(3,3))\n",
    "\n"
   ]
  },
  {
   "cell_type": "markdown",
   "metadata": {},
   "source": [
    "## Exercici 2\n",
    "Crea una funció que et generi un quadrat NxN de nombres aleatoris entre el 0 i el 100\n",
    "\n"
   ]
  },
  {
   "cell_type": "code",
   "execution_count": 4,
   "metadata": {},
   "outputs": [
    {
     "name": "stdout",
     "output_type": "stream",
     "text": [
      "[[23 75 49]\n",
      " [77  5 23]\n",
      " [ 5 76  8]]\n"
     ]
    }
   ],
   "source": [
    "def random_matrix2d(n):\n",
    "    return np.random.randint(0,100,size=(n,n))\n",
    "print(random_matrix2d(3))\n"
   ]
  },
  {
   "cell_type": "markdown",
   "metadata": {},
   "source": [
    "## Exercici 3\n",
    "Crea una funció que donada una taula de dues dimensions, et calculi els totals per fila i els totals per columna."
   ]
  },
  {
   "cell_type": "code",
   "execution_count": 5,
   "metadata": {},
   "outputs": [
    {
     "name": "stdout",
     "output_type": "stream",
     "text": [
      "[[75 70  6]\n",
      " [31 80 84]\n",
      " [16 12 81]]\n",
      "suma filas: [151 195 109]\n",
      "suma columnes: [122 162 171]\n"
     ]
    }
   ],
   "source": [
    "def sumrowsumcol(mymatrix):\n",
    "    if mymatrix.ndim == 2:\n",
    "        return mymatrix.sum(axis=1),mymatrix.sum(axis=0)\n",
    "    else:\n",
    "        return None\n",
    "\n",
    "mymatrix=random_matrix2d(3)\n",
    "print(mymatrix)\n",
    "row,col=sumrowsumcol(mymatrix)\n",
    "print(f\"suma filas: {row}\\nsuma columnes: {col}\")\n"
   ]
  },
  {
   "cell_type": "markdown",
   "metadata": {},
   "source": []
  },
  {
   "cell_type": "markdown",
   "metadata": {},
   "source": [
    "## Exercici 4\n",
    "Extret de [Wikipedia][1]\n",
    "Implementa manualment una funció que calculi el coeficient de correlació. Informa’t-en sobre els seus usos i interpretació.\n",
    "\n",
    "El coeficient de correlació de Pearson  mesura la relació lineal entre dues variables quantitatives i és independent de l'escala de mesura de les variables.\n",
    "El coeficient de correlació entre dues variables aleatòries X i Y és el quocient de la seva covariància pel producte de les seves desviacions estàndard:\n",
    "\n",
    "$$\n",
    "  r =\n",
    "  \\frac{ \\sum_{i=1}^{n}(x_i-\\bar{x})(y_i-\\bar{y}) }{%\n",
    "        \\sqrt{\\sum_{i=1}^{n}(x_i-\\bar{x})^2}\\sqrt{\\sum_{i=1}^{n}(y_i-\\bar{y})^2}}\n",
    "$$\n",
    "El valor de l'índex de correlació varia en l'interval [-1,+1]:\n",
    "\n",
    "* Si r = 1, hi ha una correlació positiva perfecta. L'índex indica una dependència total entre les dues variables anomenada relació directa : quan una d'elles augmenta, l'altra també ho fa en proporció constant.\n",
    "* Si 0 <r <1, hi ha una correlació positiva.\n",
    "* Si r = 0, no existeix relació lineal. Però això no necessàriament implica que les variables són independents: poden existir encara relacions no lineals entre les dues variables.\n",
    "* Si -1 <r <0, hi ha una correlació negativa.\n",
    "* Si r = -1, hi ha una correlació negativa perfecta. L'índex indica una dependència total entre les dues variables anomenada relació inversa : quan una d'elles augmenta, l'altra disminueix en proporció constant.\n",
    "\n",
    "\n",
    "[1]: https://ca.wikipedia.org/wiki/Coeficient_de_correlaci%C3%B3_de_Pearson \"Wikipedia\"\n"
   ]
  },
  {
   "cell_type": "code",
   "execution_count": 31,
   "metadata": {},
   "outputs": [
    {
     "name": "stdout",
     "output_type": "stream",
     "text": [
      "0.9999999999999999\n",
      "-0.9999999999999999\n",
      "0.9999999999999999\n",
      "-0.5638336031319795\n"
     ]
    }
   ],
   "source": [
    "def mycorrcoef(x, y):\n",
    "    media_x = np.sum(x)/len(x)\n",
    "    media_y = np.sum(y)/len(x)\n",
    "    #coeficien correlacio\n",
    "    r = (np.sum((x-media_x) * (y-media_y))) / (np.sqrt((np.sum((x - media_x)**2))) *  np.sqrt((np.sum((y - media_y)**2))))\n",
    "    return r\n",
    "\n",
    "x = np.array([1, 2, 3, 4, 5, 6, 7, 8, 9])\n",
    "y = np.array([1, 2, 3, 4, 5, 6, 7, 8, 9])\n",
    "\n",
    "print(mycorrcoef(x,y))\n",
    "\n",
    "x = np.array([-1, -2, -3, -4, -5, -6, -7, -8, -9])\n",
    "y = np.array([1, 2, 3, 4, 5, 6, 7, 8, 9])\n",
    "\n",
    "print(mycorrcoef(x,y))\n",
    "\n",
    "x = np.array([-1, -2, -3, -4, -5, -6, -7, -8, -9])\n",
    "y = np.array([-1, -2, -3, -4, -5, -6, -7, -8, -9])\n",
    "\n",
    "print(mycorrcoef(x,y))\n",
    "\n",
    "y = np.array([1, 2, 3, 4, 5, 26, 457, 788, 49])\n",
    "\n",
    "print(mycorrcoef(x,y))\n",
    "\n"
   ]
  },
  {
   "cell_type": "markdown",
   "metadata": {},
   "source": [
    "Los resultados del coeficiente de correlacion encajan con los previsto, 1 cuando son iguales los dos vectores, -1 cuando son inversos, con un vector con una correlacion del 50% aproximadamente tenemos 0.56 asi creo que funciona correctamente"
   ]
  }
 ],
 "metadata": {
  "interpreter": {
   "hash": "e7370f93d1d0cde622a1f8e1c04877d8463912d04d973331ad4851f04de6915a"
  },
  "kernelspec": {
   "display_name": "Python 3.10.0 64-bit",
   "language": "python",
   "name": "python3"
  },
  "language_info": {
   "codemirror_mode": {
    "name": "ipython",
    "version": 3
   },
   "file_extension": ".py",
   "mimetype": "text/x-python",
   "name": "python",
   "nbconvert_exporter": "python",
   "pygments_lexer": "ipython3",
   "version": "3.10.0"
  },
  "orig_nbformat": 4
 },
 "nbformat": 4,
 "nbformat_minor": 2
}
